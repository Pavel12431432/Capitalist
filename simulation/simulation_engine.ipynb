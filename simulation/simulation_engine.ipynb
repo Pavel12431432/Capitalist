{
 "cells": [
  {
   "cell_type": "code",
   "execution_count": 1,
   "id": "b3893a9c-e9d8-4bda-b749-c83bdf31960e",
   "metadata": {},
   "outputs": [
    {
     "data": {
      "text/plain": [
       "{'Apr 4, 2025': 188.38,\n",
       " 'Apr 1, 2025': 188.38,\n",
       " 'Mar 1, 2025': 222.13,\n",
       " 'Feb 1, 2025': 241.84,\n",
       " 'Jan 1, 2025': 236.0,\n",
       " 'Dec 1, 2024': 250.42,\n",
       " 'Nov 1, 2024': 237.33,\n",
       " 'Oct 1, 2024': 225.91,\n",
       " 'Sep 1, 2024': 233.0,\n",
       " 'Aug 1, 2024': 229.0}"
      ]
     },
     "execution_count": 1,
     "metadata": {},
     "output_type": "execute_result"
    }
   ],
   "source": [
    "from bs4 import BeautifulSoup\n",
    "import re\n",
    "\n",
    "# Load the file content\n",
    "with open(\"aapl.txt\", \"r\", encoding=\"utf-8\") as file:\n",
    "    html_content = file.read()\n",
    "\n",
    "# Parse HTML using BeautifulSoup\n",
    "soup = BeautifulSoup(html_content, \"html.parser\")\n",
    "\n",
    "# Extract table rows\n",
    "rows = soup.find_all(\"tr\", class_=\"yf-1jecxey\")\n",
    "\n",
    "# Extract date and closing price from each valid row (ignore dividend/event rows)\n",
    "data_dict = {}\n",
    "for row in rows:\n",
    "    cells = row.find_all(\"td\")\n",
    "    if len(cells) >= 5 and not cells[1].has_attr(\"colspan\"):\n",
    "        date = cells[0].get_text(strip=True)\n",
    "        close_price = cells[4].get_text(strip=True)\n",
    "        try:\n",
    "            # Clean and convert price\n",
    "            close_price = float(close_price.replace(\",\", \"\"))\n",
    "            data_dict[date] = close_price\n",
    "        except ValueError:\n",
    "            continue\n",
    "\n",
    "# Display the first 10 entries\n",
    "dict(list(data_dict.items())[:10])"
   ]
  },
  {
   "cell_type": "code",
   "execution_count": 2,
   "id": "20967e8f-4f97-461a-954e-90834b851681",
   "metadata": {},
   "outputs": [
    {
     "data": {
      "text/plain": [
       "{'Apr 1, 2025': 188.38,\n",
       " 'Jan 1, 2025': 236.0,\n",
       " 'Oct 1, 2024': 225.91,\n",
       " 'Jul 1, 2024': 222.08,\n",
       " 'Apr 1, 2024': 170.33,\n",
       " 'Jan 1, 2024': 184.4,\n",
       " 'Oct 1, 2023': 170.77,\n",
       " 'Jul 1, 2023': 196.45,\n",
       " 'Apr 1, 2023': 169.68,\n",
       " 'Jan 1, 2023': 144.29}"
      ]
     },
     "execution_count": 2,
     "metadata": {},
     "output_type": "execute_result"
    }
   ],
   "source": [
    "from datetime import datetime\n",
    "\n",
    "# Define what counts as a quarterly date (first of Jan, Apr, Jul, Oct)\n",
    "quarter_start_months = {\"Jan\", \"Apr\", \"Jul\", \"Oct\"}\n",
    "\n",
    "# Filter the dictionary to include only entries where the month is a quarter start\n",
    "quarterly_data = {\n",
    "    date: price\n",
    "    for date, price in data_dict.items()\n",
    "    if date.split()[0] in quarter_start_months and date.split()[1] == \"1,\"\n",
    "}\n",
    "\n",
    "# Display the first 10 quarterly entries\n",
    "dict(list(quarterly_data.items())[:10])"
   ]
  },
  {
   "cell_type": "code",
   "execution_count": 3,
   "id": "602c09c6-aabd-4da6-b480-0f42c18e7955",
   "metadata": {},
   "outputs": [
    {
     "data": {
      "text/plain": [
       "{'Q1 2025': 188.38,\n",
       " 'Q4 2025': 236.0,\n",
       " 'Q3 2024': 225.91,\n",
       " 'Q2 2024': 222.08,\n",
       " 'Q1 2024': 170.33,\n",
       " 'Q4 2024': 184.4,\n",
       " 'Q3 2023': 170.77,\n",
       " 'Q2 2023': 196.45,\n",
       " 'Q1 2023': 169.68,\n",
       " 'Q4 2023': 144.29}"
      ]
     },
     "execution_count": 3,
     "metadata": {},
     "output_type": "execute_result"
    }
   ],
   "source": [
    "# Map months to quarters\n",
    "month_to_quarter = {\n",
    "    \"Jan\": \"Q4\",\n",
    "    \"Apr\": \"Q1\",\n",
    "    \"Jul\": \"Q2\",\n",
    "    \"Oct\": \"Q3\"\n",
    "}\n",
    "\n",
    "# Create a new dictionary with formatted quarter keys\n",
    "quarterly_data_with_quarters = {}\n",
    "\n",
    "for date_str, price in quarterly_data.items():\n",
    "    month_abbr, _, year = date_str.split()\n",
    "    quarter = month_to_quarter.get(month_abbr)\n",
    "    if quarter:\n",
    "        quarter_key = f\"{quarter} {year}\"\n",
    "        quarterly_data_with_quarters[quarter_key] = price\n",
    "\n",
    "# Display first 10 entries\n",
    "dict(list(quarterly_data_with_quarters.items())[:10])"
   ]
  },
  {
   "cell_type": "code",
   "execution_count": 4,
   "id": "cb9907b8-d92d-4dd3-b3ea-c1f1b970f4d6",
   "metadata": {},
   "outputs": [
    {
     "data": {
      "text/plain": [
       "['Q1 1985',\n",
       " 'Q2 1985',\n",
       " 'Q3 1985',\n",
       " 'Q4 1985',\n",
       " 'Q1 1986',\n",
       " 'Q2 1986',\n",
       " 'Q3 1986',\n",
       " 'Q4 1986',\n",
       " 'Q1 1987',\n",
       " 'Q2 1987']"
      ]
     },
     "execution_count": 4,
     "metadata": {},
     "output_type": "execute_result"
    }
   ],
   "source": [
    "class QuarterIterator:\n",
    "    def __init__(self, start_quarter=\"Q1\", start_year=1985):\n",
    "        self.quarters = [\"Q1\", \"Q2\", \"Q3\", \"Q4\"]\n",
    "        self.current_index = self.quarters.index(start_quarter)\n",
    "        self.year = start_year\n",
    "\n",
    "    def __iter__(self):\n",
    "        return self\n",
    "\n",
    "    def __next__(self):\n",
    "        quarter = self.quarters[self.current_index]\n",
    "        result = f\"{quarter} {self.year}\"\n",
    "        self.current_index += 1\n",
    "        if self.current_index >= len(self.quarters):\n",
    "            self.current_index = 0\n",
    "            self.year += 1\n",
    "        return result"
   ]
  },
  {
   "cell_type": "code",
   "execution_count": 5,
   "id": "38269e04-7b27-49c6-8660-32a46d210063",
   "metadata": {},
   "outputs": [],
   "source": [
    "portfolio = {\n",
    "    \"CASH\": 10000.0,\n",
    "    \"AAPL\": 0.0,\n",
    "    \"BONDS\": 0.0,\n",
    "    \"INDEX\": 0.0,\n",
    "    \"GOLD\": 0.0,\n",
    "    \"SAVINGS\": 0.0,\n",
    "}\n",
    "\n",
    "prices = {\n",
    "    \"AAPL\": quarterly_data_with_quarters,\n",
    "}\n",
    "\n",
    "current_quarter = QuarterIterator(\"Q1\", 1985)"
   ]
  },
  {
   "cell_type": "code",
   "execution_count": 6,
   "id": "ddb11761-6d2f-4723-a10d-2d0ad57742db",
   "metadata": {},
   "outputs": [
    {
     "name": "stdin",
     "output_type": "stream",
     "text": [
      "Enter command (next / buy [ASSET] [AMOUNT] / sell [ASSET] [AMOUNT]):  buy aapl 5000\n"
     ]
    },
    {
     "name": "stdout",
     "output_type": "stream",
     "text": [
      "⚠️ Price data not available for this asset this quarter.\n"
     ]
    },
    {
     "name": "stdin",
     "output_type": "stream",
     "text": [
      "Enter command (next / buy [ASSET] [AMOUNT] / sell [ASSET] [AMOUNT]):  next\n"
     ]
    },
    {
     "name": "stdout",
     "output_type": "stream",
     "text": [
      "\n",
      "📆 Quarter: Q1 1985\n",
      "💹 Current Prices: {'AAPL': 0.09}\n",
      "💰 Net Worth: $10,000.00\n",
      "📊 Portfolio: {'CASH': 10000.0, 'AAPL': 0.0, 'BONDS': 0.0, 'INDEX': 0.0, 'GOLD': 0.0, 'SAVINGS': 0.0}\n",
      "\n",
      "--------------------------------------------------\n"
     ]
    },
    {
     "name": "stdin",
     "output_type": "stream",
     "text": [
      "Enter command (next / buy [ASSET] [AMOUNT] / sell [ASSET] [AMOUNT]):  buy aapl 5000\n"
     ]
    },
    {
     "name": "stdout",
     "output_type": "stream",
     "text": [
      "✅ Bought 55555.56 of AAPL at $0.09 per unit.\n",
      "\n",
      "--------------------------------------------------\n"
     ]
    },
    {
     "name": "stdin",
     "output_type": "stream",
     "text": [
      "Enter command (next / buy [ASSET] [AMOUNT] / sell [ASSET] [AMOUNT]):  next\n"
     ]
    },
    {
     "name": "stdout",
     "output_type": "stream",
     "text": [
      "\n",
      "📆 Quarter: Q2 1985\n",
      "💹 Current Prices: {'AAPL': 0.07}\n",
      "💰 Net Worth: $8,888.89\n",
      "📊 Portfolio: {'CASH': 5000.0, 'AAPL': 55555.555555555555, 'BONDS': 0.0, 'INDEX': 0.0, 'GOLD': 0.0, 'SAVINGS': 0.0}\n",
      "\n",
      "--------------------------------------------------\n"
     ]
    },
    {
     "name": "stdin",
     "output_type": "stream",
     "text": [
      "Enter command (next / buy [ASSET] [AMOUNT] / sell [ASSET] [AMOUNT]):  next\n"
     ]
    },
    {
     "name": "stdout",
     "output_type": "stream",
     "text": [
      "\n",
      "📆 Quarter: Q3 1985\n",
      "💹 Current Prices: {'AAPL': 0.08}\n",
      "💰 Net Worth: $9,444.44\n",
      "📊 Portfolio: {'CASH': 5000.0, 'AAPL': 55555.555555555555, 'BONDS': 0.0, 'INDEX': 0.0, 'GOLD': 0.0, 'SAVINGS': 0.0}\n",
      "\n",
      "--------------------------------------------------\n"
     ]
    },
    {
     "name": "stdin",
     "output_type": "stream",
     "text": [
      "Enter command (next / buy [ASSET] [AMOUNT] / sell [ASSET] [AMOUNT]):  next\n"
     ]
    },
    {
     "name": "stdout",
     "output_type": "stream",
     "text": [
      "\n",
      "📆 Quarter: Q4 1985\n",
      "💹 Current Prices: {'AAPL': 0.13}\n",
      "💰 Net Worth: $12,222.22\n",
      "💸 Received $10,000 income!\n",
      "📊 Portfolio: {'CASH': 15000.0, 'AAPL': 55555.555555555555, 'BONDS': 0.0, 'INDEX': 0.0, 'GOLD': 0.0, 'SAVINGS': 0.0}\n",
      "\n",
      "--------------------------------------------------\n"
     ]
    },
    {
     "name": "stdin",
     "output_type": "stream",
     "text": [
      "Enter command (next / buy [ASSET] [AMOUNT] / sell [ASSET] [AMOUNT]):  next\n"
     ]
    },
    {
     "name": "stdout",
     "output_type": "stream",
     "text": [
      "\n",
      "📆 Quarter: Q1 1986\n",
      "💹 Current Prices: {'AAPL': 0.14}\n",
      "💰 Net Worth: $22,777.78\n",
      "📊 Portfolio: {'CASH': 15000.0, 'AAPL': 55555.555555555555, 'BONDS': 0.0, 'INDEX': 0.0, 'GOLD': 0.0, 'SAVINGS': 0.0}\n",
      "\n",
      "--------------------------------------------------\n"
     ]
    },
    {
     "name": "stdin",
     "output_type": "stream",
     "text": [
      "Enter command (next / buy [ASSET] [AMOUNT] / sell [ASSET] [AMOUNT]):  sell aapl 5000\n"
     ]
    },
    {
     "name": "stdout",
     "output_type": "stream",
     "text": [
      "✅ Sold 35714.29 of AAPL at $0.14 per unit.\n",
      "\n",
      "--------------------------------------------------\n"
     ]
    },
    {
     "name": "stdin",
     "output_type": "stream",
     "text": [
      "Enter command (next / buy [ASSET] [AMOUNT] / sell [ASSET] [AMOUNT]):  next\n"
     ]
    },
    {
     "name": "stdout",
     "output_type": "stream",
     "text": [
      "\n",
      "📆 Quarter: Q2 1986\n",
      "💹 Current Prices: {'AAPL': 0.14}\n",
      "💰 Net Worth: $22,777.78\n",
      "📊 Portfolio: {'CASH': 20000.0, 'AAPL': 19841.269841269845, 'BONDS': 0.0, 'INDEX': 0.0, 'GOLD': 0.0, 'SAVINGS': 0.0}\n",
      "\n",
      "--------------------------------------------------\n"
     ]
    },
    {
     "name": "stdin",
     "output_type": "stream",
     "text": [
      "Enter command (next / buy [ASSET] [AMOUNT] / sell [ASSET] [AMOUNT]):  next\n"
     ]
    },
    {
     "name": "stdout",
     "output_type": "stream",
     "text": [
      "\n",
      "📆 Quarter: Q3 1986\n",
      "💹 Current Prices: {'AAPL': 0.15}\n",
      "💰 Net Worth: $22,976.19\n",
      "📊 Portfolio: {'CASH': 20000.0, 'AAPL': 19841.269841269845, 'BONDS': 0.0, 'INDEX': 0.0, 'GOLD': 0.0, 'SAVINGS': 0.0}\n",
      "\n",
      "--------------------------------------------------\n"
     ]
    },
    {
     "name": "stdin",
     "output_type": "stream",
     "text": [
      "Enter command (next / buy [ASSET] [AMOUNT] / sell [ASSET] [AMOUNT]):  buy aapl 20000\n"
     ]
    },
    {
     "name": "stdout",
     "output_type": "stream",
     "text": [
      "✅ Bought 133333.33 of AAPL at $0.15 per unit.\n",
      "\n",
      "--------------------------------------------------\n"
     ]
    },
    {
     "name": "stdin",
     "output_type": "stream",
     "text": [
      "Enter command (next / buy [ASSET] [AMOUNT] / sell [ASSET] [AMOUNT]):  next\n"
     ]
    },
    {
     "name": "stdout",
     "output_type": "stream",
     "text": [
      "\n",
      "📆 Quarter: Q4 1986\n",
      "💹 Current Prices: {'AAPL': 0.1}\n",
      "💰 Net Worth: $15,317.46\n",
      "💸 Received $10,000 income!\n",
      "📊 Portfolio: {'CASH': 10000.0, 'AAPL': 153174.6031746032, 'BONDS': 0.0, 'INDEX': 0.0, 'GOLD': 0.0, 'SAVINGS': 0.0}\n",
      "\n",
      "--------------------------------------------------\n"
     ]
    },
    {
     "name": "stdin",
     "output_type": "stream",
     "text": [
      "Enter command (next / buy [ASSET] [AMOUNT] / sell [ASSET] [AMOUNT]):  next\n"
     ]
    },
    {
     "name": "stdout",
     "output_type": "stream",
     "text": [
      "\n",
      "📆 Quarter: Q1 1987\n",
      "💹 Current Prices: {'AAPL': 0.35}\n",
      "💰 Net Worth: $63,611.11\n",
      "📊 Portfolio: {'CASH': 10000.0, 'AAPL': 153174.6031746032, 'BONDS': 0.0, 'INDEX': 0.0, 'GOLD': 0.0, 'SAVINGS': 0.0}\n",
      "\n",
      "--------------------------------------------------\n"
     ]
    },
    {
     "name": "stdin",
     "output_type": "stream",
     "text": [
      "Enter command (next / buy [ASSET] [AMOUNT] / sell [ASSET] [AMOUNT]):  next\n"
     ]
    },
    {
     "name": "stdout",
     "output_type": "stream",
     "text": [
      "\n",
      "📆 Quarter: Q2 1987\n",
      "💹 Current Prices: {'AAPL': 0.37}\n",
      "💰 Net Worth: $66,674.60\n",
      "📊 Portfolio: {'CASH': 10000.0, 'AAPL': 153174.6031746032, 'BONDS': 0.0, 'INDEX': 0.0, 'GOLD': 0.0, 'SAVINGS': 0.0}\n",
      "\n",
      "--------------------------------------------------\n"
     ]
    },
    {
     "name": "stdin",
     "output_type": "stream",
     "text": [
      "Enter command (next / buy [ASSET] [AMOUNT] / sell [ASSET] [AMOUNT]):  next\n"
     ]
    },
    {
     "name": "stdout",
     "output_type": "stream",
     "text": [
      "\n",
      "📆 Quarter: Q3 1987\n",
      "💹 Current Prices: {'AAPL': 0.34}\n",
      "💰 Net Worth: $62,079.37\n",
      "📊 Portfolio: {'CASH': 10000.0, 'AAPL': 153174.6031746032, 'BONDS': 0.0, 'INDEX': 0.0, 'GOLD': 0.0, 'SAVINGS': 0.0}\n",
      "\n",
      "--------------------------------------------------\n"
     ]
    },
    {
     "name": "stdin",
     "output_type": "stream",
     "text": [
      "Enter command (next / buy [ASSET] [AMOUNT] / sell [ASSET] [AMOUNT]):  next\n"
     ]
    },
    {
     "name": "stdout",
     "output_type": "stream",
     "text": [
      "\n",
      "📆 Quarter: Q4 1987\n",
      "💹 Current Prices: {'AAPL': 0.25}\n",
      "💰 Net Worth: $48,293.65\n",
      "💸 Received $10,000 income!\n",
      "📊 Portfolio: {'CASH': 20000.0, 'AAPL': 153174.6031746032, 'BONDS': 0.0, 'INDEX': 0.0, 'GOLD': 0.0, 'SAVINGS': 0.0}\n",
      "\n",
      "--------------------------------------------------\n"
     ]
    },
    {
     "name": "stdin",
     "output_type": "stream",
     "text": [
      "Enter command (next / buy [ASSET] [AMOUNT] / sell [ASSET] [AMOUNT]):  next\n"
     ]
    },
    {
     "name": "stdout",
     "output_type": "stream",
     "text": [
      "\n",
      "📆 Quarter: Q1 1988\n",
      "💹 Current Prices: {'AAPL': 0.37}\n",
      "💰 Net Worth: $76,674.60\n",
      "📊 Portfolio: {'CASH': 20000.0, 'AAPL': 153174.6031746032, 'BONDS': 0.0, 'INDEX': 0.0, 'GOLD': 0.0, 'SAVINGS': 0.0}\n",
      "\n",
      "--------------------------------------------------\n"
     ]
    },
    {
     "name": "stdin",
     "output_type": "stream",
     "text": [
      "Enter command (next / buy [ASSET] [AMOUNT] / sell [ASSET] [AMOUNT]):  next\n"
     ]
    },
    {
     "name": "stdout",
     "output_type": "stream",
     "text": [
      "\n",
      "📆 Quarter: Q2 1988\n",
      "💹 Current Prices: {'AAPL': 0.4}\n",
      "💰 Net Worth: $81,269.84\n",
      "📊 Portfolio: {'CASH': 20000.0, 'AAPL': 153174.6031746032, 'BONDS': 0.0, 'INDEX': 0.0, 'GOLD': 0.0, 'SAVINGS': 0.0}\n",
      "\n",
      "--------------------------------------------------\n"
     ]
    },
    {
     "name": "stdin",
     "output_type": "stream",
     "text": [
      "Enter command (next / buy [ASSET] [AMOUNT] / sell [ASSET] [AMOUNT]):  next\n"
     ]
    },
    {
     "name": "stdout",
     "output_type": "stream",
     "text": [
      "\n",
      "📆 Quarter: Q3 1988\n",
      "💹 Current Prices: {'AAPL': 0.34}\n",
      "💰 Net Worth: $72,079.37\n",
      "📊 Portfolio: {'CASH': 20000.0, 'AAPL': 153174.6031746032, 'BONDS': 0.0, 'INDEX': 0.0, 'GOLD': 0.0, 'SAVINGS': 0.0}\n",
      "\n",
      "--------------------------------------------------\n"
     ]
    },
    {
     "name": "stdin",
     "output_type": "stream",
     "text": [
      "Enter command (next / buy [ASSET] [AMOUNT] / sell [ASSET] [AMOUNT]):  next\n"
     ]
    },
    {
     "name": "stdout",
     "output_type": "stream",
     "text": [
      "\n",
      "📆 Quarter: Q4 1988\n",
      "💹 Current Prices: {'AAPL': 0.37}\n",
      "💰 Net Worth: $76,674.60\n",
      "💸 Received $10,000 income!\n",
      "📊 Portfolio: {'CASH': 30000.0, 'AAPL': 153174.6031746032, 'BONDS': 0.0, 'INDEX': 0.0, 'GOLD': 0.0, 'SAVINGS': 0.0}\n",
      "\n",
      "--------------------------------------------------\n"
     ]
    },
    {
     "name": "stdin",
     "output_type": "stream",
     "text": [
      "Enter command (next / buy [ASSET] [AMOUNT] / sell [ASSET] [AMOUNT]):  next\n"
     ]
    },
    {
     "name": "stdout",
     "output_type": "stream",
     "text": [
      "\n",
      "📆 Quarter: Q1 1989\n",
      "💹 Current Prices: {'AAPL': 0.35}\n",
      "💰 Net Worth: $83,611.11\n",
      "📊 Portfolio: {'CASH': 30000.0, 'AAPL': 153174.6031746032, 'BONDS': 0.0, 'INDEX': 0.0, 'GOLD': 0.0, 'SAVINGS': 0.0}\n",
      "\n",
      "--------------------------------------------------\n"
     ]
    },
    {
     "name": "stdin",
     "output_type": "stream",
     "text": [
      "Enter command (next / buy [ASSET] [AMOUNT] / sell [ASSET] [AMOUNT]):  next\n"
     ]
    },
    {
     "name": "stdout",
     "output_type": "stream",
     "text": [
      "\n",
      "📆 Quarter: Q2 1989\n",
      "💹 Current Prices: {'AAPL': 0.35}\n",
      "💰 Net Worth: $83,611.11\n",
      "📊 Portfolio: {'CASH': 30000.0, 'AAPL': 153174.6031746032, 'BONDS': 0.0, 'INDEX': 0.0, 'GOLD': 0.0, 'SAVINGS': 0.0}\n",
      "\n",
      "--------------------------------------------------\n"
     ]
    },
    {
     "name": "stdin",
     "output_type": "stream",
     "text": [
      "Enter command (next / buy [ASSET] [AMOUNT] / sell [ASSET] [AMOUNT]):  next\n"
     ]
    },
    {
     "name": "stdout",
     "output_type": "stream",
     "text": [
      "\n",
      "📆 Quarter: Q3 1989\n",
      "💹 Current Prices: {'AAPL': 0.42}\n",
      "💰 Net Worth: $94,333.33\n",
      "📊 Portfolio: {'CASH': 30000.0, 'AAPL': 153174.6031746032, 'BONDS': 0.0, 'INDEX': 0.0, 'GOLD': 0.0, 'SAVINGS': 0.0}\n",
      "\n",
      "--------------------------------------------------\n"
     ]
    },
    {
     "name": "stdin",
     "output_type": "stream",
     "text": [
      "Enter command (next / buy [ASSET] [AMOUNT] / sell [ASSET] [AMOUNT]):  sell aapl 60000\n"
     ]
    },
    {
     "name": "stdout",
     "output_type": "stream",
     "text": [
      "✅ Sold 142857.14 of AAPL at $0.42 per unit.\n",
      "\n",
      "--------------------------------------------------\n"
     ]
    },
    {
     "name": "stdin",
     "output_type": "stream",
     "text": [
      "Enter command (next / buy [ASSET] [AMOUNT] / sell [ASSET] [AMOUNT]):  nex\n"
     ]
    },
    {
     "name": "stdout",
     "output_type": "stream",
     "text": [
      "❓ Unknown command. Try again.\n",
      "\n",
      "--------------------------------------------------\n"
     ]
    },
    {
     "name": "stdin",
     "output_type": "stream",
     "text": [
      "Enter command (next / buy [ASSET] [AMOUNT] / sell [ASSET] [AMOUNT]):  next\n"
     ]
    },
    {
     "name": "stdout",
     "output_type": "stream",
     "text": [
      "\n",
      "📆 Quarter: Q4 1989\n",
      "💹 Current Prices: {'AAPL': 0.34}\n",
      "💰 Net Worth: $93,507.94\n",
      "💸 Received $10,000 income!\n",
      "📊 Portfolio: {'CASH': 100000.0, 'AAPL': 10317.460317460325, 'BONDS': 0.0, 'INDEX': 0.0, 'GOLD': 0.0, 'SAVINGS': 0.0}\n",
      "\n",
      "--------------------------------------------------\n"
     ]
    },
    {
     "name": "stdin",
     "output_type": "stream",
     "text": [
      "Enter command (next / buy [ASSET] [AMOUNT] / sell [ASSET] [AMOUNT]):  next\n"
     ]
    },
    {
     "name": "stdout",
     "output_type": "stream",
     "text": [
      "\n",
      "📆 Quarter: Q1 1990\n",
      "💹 Current Prices: {'AAPL': 0.35}\n",
      "💰 Net Worth: $103,611.11\n",
      "📊 Portfolio: {'CASH': 100000.0, 'AAPL': 10317.460317460325, 'BONDS': 0.0, 'INDEX': 0.0, 'GOLD': 0.0, 'SAVINGS': 0.0}\n",
      "\n",
      "--------------------------------------------------\n"
     ]
    },
    {
     "name": "stdin",
     "output_type": "stream",
     "text": [
      "Enter command (next / buy [ASSET] [AMOUNT] / sell [ASSET] [AMOUNT]):  sell aapl 3611\n"
     ]
    },
    {
     "name": "stdout",
     "output_type": "stream",
     "text": [
      "✅ Sold 10317.14 of AAPL at $0.35 per unit.\n",
      "\n",
      "--------------------------------------------------\n"
     ]
    },
    {
     "name": "stdin",
     "output_type": "stream",
     "text": [
      "Enter command (next / buy [ASSET] [AMOUNT] / sell [ASSET] [AMOUNT]):  next\n"
     ]
    },
    {
     "name": "stdout",
     "output_type": "stream",
     "text": [
      "\n",
      "📆 Quarter: Q2 1990\n",
      "💹 Current Prices: {'AAPL': 0.38}\n",
      "💰 Net Worth: $103,611.12\n",
      "📊 Portfolio: {'CASH': 103611.0, 'AAPL': 0.31746031746661174, 'BONDS': 0.0, 'INDEX': 0.0, 'GOLD': 0.0, 'SAVINGS': 0.0}\n",
      "\n",
      "--------------------------------------------------\n"
     ]
    },
    {
     "ename": "KeyboardInterrupt",
     "evalue": "Interrupted by user",
     "output_type": "error",
     "traceback": [
      "\u001b[1;31m---------------------------------------------------------------------------\u001b[0m",
      "\u001b[1;31mKeyboardInterrupt\u001b[0m                         Traceback (most recent call last)",
      "Cell \u001b[1;32mIn[6], line 7\u001b[0m\n\u001b[0;32m      4\u001b[0m round_count \u001b[38;5;241m=\u001b[39m \u001b[38;5;241m0\u001b[39m\n\u001b[0;32m      6\u001b[0m \u001b[38;5;28;01mwhile\u001b[39;00m \u001b[38;5;28;01mTrue\u001b[39;00m:\n\u001b[1;32m----> 7\u001b[0m     command \u001b[38;5;241m=\u001b[39m \u001b[38;5;28;43minput\u001b[39;49m\u001b[43m(\u001b[49m\u001b[38;5;124;43m\"\u001b[39;49m\u001b[38;5;124;43mEnter command (next / buy [ASSET] [AMOUNT] / sell [ASSET] [AMOUNT]): \u001b[39;49m\u001b[38;5;124;43m\"\u001b[39;49m\u001b[43m)\u001b[49m\u001b[38;5;241m.\u001b[39mstrip()\u001b[38;5;241m.\u001b[39mlower()\n\u001b[0;32m      9\u001b[0m     \u001b[38;5;28;01mif\u001b[39;00m command \u001b[38;5;241m==\u001b[39m \u001b[38;5;124m\"\u001b[39m\u001b[38;5;124mnext\u001b[39m\u001b[38;5;124m\"\u001b[39m:\n\u001b[0;32m     10\u001b[0m         round_count \u001b[38;5;241m+\u001b[39m\u001b[38;5;241m=\u001b[39m \u001b[38;5;241m1\u001b[39m\n",
      "File \u001b[1;32m~\\AppData\\Roaming\\Python\\Python312\\site-packages\\ipykernel\\kernelbase.py:1282\u001b[0m, in \u001b[0;36mKernel.raw_input\u001b[1;34m(self, prompt)\u001b[0m\n\u001b[0;32m   1280\u001b[0m     msg \u001b[38;5;241m=\u001b[39m \u001b[38;5;124m\"\u001b[39m\u001b[38;5;124mraw_input was called, but this frontend does not support input requests.\u001b[39m\u001b[38;5;124m\"\u001b[39m\n\u001b[0;32m   1281\u001b[0m     \u001b[38;5;28;01mraise\u001b[39;00m StdinNotImplementedError(msg)\n\u001b[1;32m-> 1282\u001b[0m \u001b[38;5;28;01mreturn\u001b[39;00m \u001b[38;5;28;43mself\u001b[39;49m\u001b[38;5;241;43m.\u001b[39;49m\u001b[43m_input_request\u001b[49m\u001b[43m(\u001b[49m\n\u001b[0;32m   1283\u001b[0m \u001b[43m    \u001b[49m\u001b[38;5;28;43mstr\u001b[39;49m\u001b[43m(\u001b[49m\u001b[43mprompt\u001b[49m\u001b[43m)\u001b[49m\u001b[43m,\u001b[49m\n\u001b[0;32m   1284\u001b[0m \u001b[43m    \u001b[49m\u001b[38;5;28;43mself\u001b[39;49m\u001b[38;5;241;43m.\u001b[39;49m\u001b[43m_parent_ident\u001b[49m\u001b[43m[\u001b[49m\u001b[38;5;124;43m\"\u001b[39;49m\u001b[38;5;124;43mshell\u001b[39;49m\u001b[38;5;124;43m\"\u001b[39;49m\u001b[43m]\u001b[49m\u001b[43m,\u001b[49m\n\u001b[0;32m   1285\u001b[0m \u001b[43m    \u001b[49m\u001b[38;5;28;43mself\u001b[39;49m\u001b[38;5;241;43m.\u001b[39;49m\u001b[43mget_parent\u001b[49m\u001b[43m(\u001b[49m\u001b[38;5;124;43m\"\u001b[39;49m\u001b[38;5;124;43mshell\u001b[39;49m\u001b[38;5;124;43m\"\u001b[39;49m\u001b[43m)\u001b[49m\u001b[43m,\u001b[49m\n\u001b[0;32m   1286\u001b[0m \u001b[43m    \u001b[49m\u001b[43mpassword\u001b[49m\u001b[38;5;241;43m=\u001b[39;49m\u001b[38;5;28;43;01mFalse\u001b[39;49;00m\u001b[43m,\u001b[49m\n\u001b[0;32m   1287\u001b[0m \u001b[43m\u001b[49m\u001b[43m)\u001b[49m\n",
      "File \u001b[1;32m~\\AppData\\Roaming\\Python\\Python312\\site-packages\\ipykernel\\kernelbase.py:1325\u001b[0m, in \u001b[0;36mKernel._input_request\u001b[1;34m(self, prompt, ident, parent, password)\u001b[0m\n\u001b[0;32m   1322\u001b[0m \u001b[38;5;28;01mexcept\u001b[39;00m \u001b[38;5;167;01mKeyboardInterrupt\u001b[39;00m:\n\u001b[0;32m   1323\u001b[0m     \u001b[38;5;66;03m# re-raise KeyboardInterrupt, to truncate traceback\u001b[39;00m\n\u001b[0;32m   1324\u001b[0m     msg \u001b[38;5;241m=\u001b[39m \u001b[38;5;124m\"\u001b[39m\u001b[38;5;124mInterrupted by user\u001b[39m\u001b[38;5;124m\"\u001b[39m\n\u001b[1;32m-> 1325\u001b[0m     \u001b[38;5;28;01mraise\u001b[39;00m \u001b[38;5;167;01mKeyboardInterrupt\u001b[39;00m(msg) \u001b[38;5;28;01mfrom\u001b[39;00m \u001b[38;5;28;01mNone\u001b[39;00m\n\u001b[0;32m   1326\u001b[0m \u001b[38;5;28;01mexcept\u001b[39;00m \u001b[38;5;167;01mException\u001b[39;00m:\n\u001b[0;32m   1327\u001b[0m     \u001b[38;5;28mself\u001b[39m\u001b[38;5;241m.\u001b[39mlog\u001b[38;5;241m.\u001b[39mwarning(\u001b[38;5;124m\"\u001b[39m\u001b[38;5;124mInvalid Message:\u001b[39m\u001b[38;5;124m\"\u001b[39m, exc_info\u001b[38;5;241m=\u001b[39m\u001b[38;5;28;01mTrue\u001b[39;00m)\n",
      "\u001b[1;31mKeyboardInterrupt\u001b[0m: Interrupted by user"
     ]
    }
   ],
   "source": [
    "# Game loop\n",
    "import sys\n",
    "\n",
    "round_count = 0\n",
    "\n",
    "while True:\n",
    "    command = input(\"Enter command (next / buy [ASSET] [AMOUNT] / sell [ASSET] [AMOUNT]): \").strip().lower()\n",
    "    \n",
    "    if command == \"next\":\n",
    "        round_count += 1\n",
    "        quarter = next(current_quarter)\n",
    "\n",
    "        print(f\"\\n📆 Quarter: {quarter}\")\n",
    "        \n",
    "        # Get prices for this quarter\n",
    "        current_prices = {k: v.get(quarter, 0.0) for k, v in prices.items()}\n",
    "        print(f\"💹 Current Prices: {current_prices}\")\n",
    "        \n",
    "        # Update net worth\n",
    "        net_worth = portfolio[\"CASH\"] + sum(\n",
    "            portfolio[asset] * current_prices.get(asset, 0)\n",
    "            for asset in portfolio\n",
    "            if asset != \"CASH\"\n",
    "        )\n",
    "        print(f\"💰 Net Worth: ${net_worth:,.2f}\")\n",
    "        \n",
    "        # Income every 4 quarters\n",
    "        if round_count % 4 == 0:\n",
    "            portfolio[\"CASH\"] += 10000\n",
    "            print(\"💸 Received $10,000 income!\")\n",
    "\n",
    "        print(f\"📊 Portfolio: {portfolio}\")\n",
    "        \n",
    "    elif command.startswith(\"buy \"):\n",
    "        try:\n",
    "            _, asset, amount = command.split()\n",
    "            amount = float(amount)\n",
    "            price = prices.get(asset.upper(), {}).get(quarter, 0)\n",
    "            \n",
    "            if price == 0:\n",
    "                print(\"⚠️ Price data not available for this asset this quarter.\")\n",
    "                continue\n",
    "\n",
    "            shares = amount / price\n",
    "            if portfolio[\"CASH\"] >= amount:\n",
    "                portfolio[\"CASH\"] -= amount\n",
    "                portfolio[asset.upper()] += shares\n",
    "                print(f\"✅ Bought {shares:.2f} of {asset.upper()} at ${price:.2f} per unit.\")\n",
    "            else:\n",
    "                print(\"❌ Not enough cash.\")\n",
    "        except Exception as e:\n",
    "            print(\"❌ Invalid input. Format: buy [ASSET] [AMOUNT]\")\n",
    "    \n",
    "    elif command.startswith(\"sell \"):\n",
    "        try:\n",
    "            _, asset, amount = command.split()\n",
    "            amount = float(amount)\n",
    "            asset = asset.upper()\n",
    "            price = prices.get(asset, {}).get(quarter, 0)\n",
    "\n",
    "            if price == 0:\n",
    "                print(\"⚠️ Price data not available for this asset this quarter.\")\n",
    "                continue\n",
    "\n",
    "            shares = amount / price\n",
    "            if portfolio.get(asset, 0) >= shares:\n",
    "                portfolio[asset] -= shares\n",
    "                portfolio[\"CASH\"] += amount\n",
    "                print(f\"✅ Sold {shares:.2f} of {asset} at ${price:.2f} per unit.\")\n",
    "            else:\n",
    "                print(\"❌ Not enough holdings to sell that much.\")\n",
    "        except Exception as e:\n",
    "            print(\"❌ Invalid input. Format: sell [ASSET] [AMOUNT]\")\n",
    "\n",
    "    else:\n",
    "        print(\"❓ Unknown command. Try again.\")\n",
    "    \n",
    "    print(\"\\n\" + \"-\" * 50)"
   ]
  }
 ],
 "metadata": {
  "kernelspec": {
   "display_name": "Python 3 (ipykernel)",
   "language": "python",
   "name": "python3"
  },
  "language_info": {
   "codemirror_mode": {
    "name": "ipython",
    "version": 3
   },
   "file_extension": ".py",
   "mimetype": "text/x-python",
   "name": "python",
   "nbconvert_exporter": "python",
   "pygments_lexer": "ipython3",
   "version": "3.12.3"
  }
 },
 "nbformat": 4,
 "nbformat_minor": 5
}
